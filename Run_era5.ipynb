{
 "cells": [
  {
   "cell_type": "code",
   "execution_count": 1,
   "metadata": {
    "ExecuteTime": {
     "end_time": "2022-06-12T11:37:53.484750Z",
     "start_time": "2022-06-12T11:37:52.756378Z"
    }
   },
   "outputs": [],
   "source": [
    "import configparser\n",
    "from model.model import Model\n",
    "from dataprovider.era5 import ERA5 as DataProvider\n",
    "from tqdm import tqdm\n",
    "import datetime\n",
    "import numpy as np\n",
    "import matplotlib.pyplot as plt  "
   ]
  },
  {
   "cell_type": "code",
   "execution_count": 2,
   "metadata": {
    "ExecuteTime": {
     "end_time": "2022-06-12T11:37:53.490856Z",
     "start_time": "2022-06-12T11:37:53.486412Z"
    }
   },
   "outputs": [
    {
     "data": {
      "text/plain": [
       "['./lsntp_era5.config']"
      ]
     },
     "execution_count": 2,
     "metadata": {},
     "output_type": "execute_result"
    }
   ],
   "source": [
    "MODEL = 'lsntp'\n",
    "DATASET = 'era5'\n",
    "config_file = './{}_{}.config'.format(MODEL, DATASET)\n",
    "config = configparser.ConfigParser()\n",
    "config.read(config_file)"
   ]
  },
  {
   "cell_type": "code",
   "execution_count": 3,
   "metadata": {
    "ExecuteTime": {
     "end_time": "2022-06-12T11:37:53.583980Z",
     "start_time": "2022-06-12T11:37:53.492067Z"
    }
   },
   "outputs": [],
   "source": [
    "model = Model(config)"
   ]
  },
  {
   "cell_type": "code",
   "execution_count": 4,
   "metadata": {
    "ExecuteTime": {
     "end_time": "2022-06-12T11:37:55.203967Z",
     "start_time": "2022-06-12T11:37:53.586687Z"
    }
   },
   "outputs": [
    {
     "name": "stdout",
     "output_type": "stream",
     "text": [
      "self.lsntp_downsample: True True\n"
     ]
    }
   ],
   "source": [
    "network = model.get_model()"
   ]
  },
  {
   "cell_type": "code",
   "execution_count": 5,
   "metadata": {
    "ExecuteTime": {
     "end_time": "2022-06-12T11:37:55.208441Z",
     "start_time": "2022-06-12T11:37:55.205304Z"
    }
   },
   "outputs": [
    {
     "name": "stdout",
     "output_type": "stream",
     "text": [
      "Number of params: 5.99M\n"
     ]
    }
   ],
   "source": [
    "model.param_counter()"
   ]
  },
  {
   "cell_type": "code",
   "execution_count": 6,
   "metadata": {
    "ExecuteTime": {
     "end_time": "2022-06-12T11:37:55.283286Z",
     "start_time": "2022-06-12T11:37:55.209387Z"
    },
    "scrolled": true
   },
   "outputs": [
    {
     "data": {
      "text/plain": [
       "DataParallel(\n",
       "  (module): Network(\n",
       "    (encoder): Encoder(\n",
       "      (conv2d): Conv2d(1, 1, kernel_size=(3, 3), stride=(2, 2))\n",
       "      (convrnn1): LSConvLSTM(\n",
       "        (cell): LSConvLSTMCell(\n",
       "          (conv): LSConv(\n",
       "            (spatial_atten_block): NodeBasedAttentionModule(\n",
       "              (spatail_atten): Sequential(\n",
       "                (0): Conv2d(129, 129, kernel_size=(1, 1), stride=(1, 1))\n",
       "                (1): GroupNorm(1, 129, eps=1e-05, affine=True)\n",
       "                (2): ReLU(inplace=True)\n",
       "                (3): Conv2d(129, 129, kernel_size=(1, 1), stride=(1, 1))\n",
       "                (4): GroupNorm(1, 129, eps=1e-05, affine=True)\n",
       "                (5): ReLU(inplace=True)\n",
       "                (6): Conv2d(129, 129, kernel_size=(1, 1), stride=(1, 1))\n",
       "                (7): Sigmoid()\n",
       "              )\n",
       "            )\n",
       "          )\n",
       "        )\n",
       "      )\n",
       "      (convrnn2): LSConvLSTM(\n",
       "        (cell): LSConvLSTMCell(\n",
       "          (conv): LSConv(\n",
       "            (spatial_atten_block): NodeBasedAttentionModule(\n",
       "              (spatail_atten): Sequential(\n",
       "                (0): Conv2d(256, 256, kernel_size=(1, 1), stride=(1, 1))\n",
       "                (1): GroupNorm(1, 256, eps=1e-05, affine=True)\n",
       "                (2): ReLU(inplace=True)\n",
       "                (3): Conv2d(256, 256, kernel_size=(1, 1), stride=(1, 1))\n",
       "                (4): GroupNorm(1, 256, eps=1e-05, affine=True)\n",
       "                (5): ReLU(inplace=True)\n",
       "                (6): Conv2d(256, 256, kernel_size=(1, 1), stride=(1, 1))\n",
       "                (7): Sigmoid()\n",
       "              )\n",
       "            )\n",
       "          )\n",
       "        )\n",
       "      )\n",
       "    )\n",
       "    (decoder): Decoder(\n",
       "      (convrnn3): LSConvLSTM(\n",
       "        (cell): LSConvLSTMCell(\n",
       "          (conv): LSConv(\n",
       "            (spatial_atten_block): NodeBasedAttentionModule(\n",
       "              (spatail_atten): Sequential(\n",
       "                (0): Conv2d(256, 256, kernel_size=(1, 1), stride=(1, 1))\n",
       "                (1): GroupNorm(1, 256, eps=1e-05, affine=True)\n",
       "                (2): ReLU(inplace=True)\n",
       "                (3): Conv2d(256, 256, kernel_size=(1, 1), stride=(1, 1))\n",
       "                (4): GroupNorm(1, 256, eps=1e-05, affine=True)\n",
       "                (5): ReLU(inplace=True)\n",
       "                (6): Conv2d(256, 256, kernel_size=(1, 1), stride=(1, 1))\n",
       "                (7): Sigmoid()\n",
       "              )\n",
       "            )\n",
       "          )\n",
       "        )\n",
       "      )\n",
       "      (convrnn4): LSConvLSTM(\n",
       "        (cell): LSConvLSTMCell(\n",
       "          (conv): LSConv(\n",
       "            (spatial_atten_block): NodeBasedAttentionModule(\n",
       "              (spatail_atten): Sequential(\n",
       "                (0): Conv2d(256, 256, kernel_size=(1, 1), stride=(1, 1))\n",
       "                (1): GroupNorm(1, 256, eps=1e-05, affine=True)\n",
       "                (2): ReLU(inplace=True)\n",
       "                (3): Conv2d(256, 256, kernel_size=(1, 1), stride=(1, 1))\n",
       "                (4): GroupNorm(1, 256, eps=1e-05, affine=True)\n",
       "                (5): ReLU(inplace=True)\n",
       "                (6): Conv2d(256, 256, kernel_size=(1, 1), stride=(1, 1))\n",
       "                (7): Sigmoid()\n",
       "              )\n",
       "            )\n",
       "          )\n",
       "        )\n",
       "      )\n",
       "      (conv2dtranspose): ConvTranspose2d(128, 1, kernel_size=(3, 3), stride=(2, 2))\n",
       "    )\n",
       "  )\n",
       ")"
      ]
     },
     "execution_count": 6,
     "metadata": {},
     "output_type": "execute_result"
    }
   ],
   "source": [
    "network"
   ]
  },
  {
   "cell_type": "code",
   "execution_count": 7,
   "metadata": {
    "ExecuteTime": {
     "end_time": "2022-06-12T11:37:56.442890Z",
     "start_time": "2022-06-12T11:37:55.285518Z"
    }
   },
   "outputs": [],
   "source": [
    "dataprovider = DataProvider(config)\n",
    "train_loader = dataprovider.train_loader()\n",
    "validate_loader = dataprovider.validate_loader()\n",
    "test_loader = dataprovider.test_loader()"
   ]
  },
  {
   "cell_type": "code",
   "execution_count": 8,
   "metadata": {
    "ExecuteTime": {
     "end_time": "2022-06-12T11:37:56.448866Z",
     "start_time": "2022-06-12T11:37:56.445295Z"
    }
   },
   "outputs": [
    {
     "data": {
      "text/plain": [
       "1"
      ]
     },
     "execution_count": 8,
     "metadata": {},
     "output_type": "execute_result"
    }
   ],
   "source": [
    "model_save_loss = float(\"inf\")\n",
    "epochs = int(config['model']['epoch'])\n",
    "resume_checkpoint = config['model']['resume_checkpoint']\n",
    "if resume_checkpoint == '':\n",
    "    start_epoch = 1\n",
    "else:\n",
    "    start_epoch = model.load()\n",
    "start_epoch"
   ]
  },
  {
   "cell_type": "code",
   "execution_count": 9,
   "metadata": {
    "ExecuteTime": {
     "end_time": "2022-06-12T11:37:56.512600Z",
     "start_time": "2022-06-12T11:37:56.449863Z"
    }
   },
   "outputs": [
    {
     "name": "stdout",
     "output_type": "stream",
     "text": [
      "training start: 2022-06-12 19:37:56.510005\n"
     ]
    }
   ],
   "source": [
    "starttime = datetime.datetime.now()\n",
    "print('training start:', starttime)"
   ]
  },
  {
   "cell_type": "code",
   "execution_count": 10,
   "metadata": {
    "ExecuteTime": {
     "end_time": "2022-06-12T11:37:56.578105Z",
     "start_time": "2022-06-12T11:37:56.514845Z"
    },
    "scrolled": true
   },
   "outputs": [],
   "source": [
    "# for epoch in range(start_epoch, epochs+1):\n",
    "#     print('epochs [%d/%d]' % (epoch, epochs))\n",
    "#     # train\n",
    "#     train_loss = 0\n",
    "#     for batch_idx,input_index,target_index, in tqdm(train_loader) :\n",
    "#         train_loss += model.train(dataprovider.train_vlidate_data, input_index, target_index)\n",
    "    \n",
    "#     #validate\n",
    "#     validata_loss = 0\n",
    "#     for batch_idx,input_index,target_index, in tqdm(validate_loader) :\n",
    "#         validata_loss += model.validate(dataprovider.train_vlidate_data, input_index, target_index)\n",
    "    \n",
    "#     if model_save_loss > validata_loss:\n",
    "#         model.save(epoch, 'best_model.pth')\n",
    "#         model_save_loss = validata_loss\n",
    "    \n",
    "#     model.save(epoch)   \n",
    "#     print('train_loss: %.8f val_loss: %.8f' % (train_loss, validata_loss))"
   ]
  },
  {
   "cell_type": "code",
   "execution_count": 11,
   "metadata": {
    "ExecuteTime": {
     "end_time": "2022-06-12T11:37:56.637979Z",
     "start_time": "2022-06-12T11:37:56.580541Z"
    }
   },
   "outputs": [
    {
     "name": "stdout",
     "output_type": "stream",
     "text": [
      "training end: 2022-06-12 19:37:56.635078\n"
     ]
    }
   ],
   "source": [
    "endtime = datetime.datetime.now()\n",
    "print('training end:', endtime)"
   ]
  },
  {
   "cell_type": "code",
   "execution_count": 12,
   "metadata": {
    "ExecuteTime": {
     "end_time": "2022-06-12T11:37:56.772697Z",
     "start_time": "2022-06-12T11:37:56.640482Z"
    }
   },
   "outputs": [
    {
     "name": "stdout",
     "output_type": "stream",
     "text": [
      "loaded model successfully\n"
     ]
    },
    {
     "data": {
      "text/plain": [
       "66"
      ]
     },
     "execution_count": 12,
     "metadata": {},
     "output_type": "execute_result"
    }
   ],
   "source": [
    "model.load('best_model.pth')"
   ]
  },
  {
   "cell_type": "code",
   "execution_count": 13,
   "metadata": {
    "ExecuteTime": {
     "end_time": "2022-06-12T11:39:56.197367Z",
     "start_time": "2022-06-12T11:37:56.773814Z"
    }
   },
   "outputs": [
    {
     "name": "stderr",
     "output_type": "stream",
     "text": [
      "100%|██████████| 35/35 [01:59<00:00,  3.41s/it]\n"
     ]
    }
   ],
   "source": [
    "mae, mse, ssim, psnr, counter = model.test(dataprovider.test_data, test_loader, dataprovider.test_nomalizer)"
   ]
  },
  {
   "cell_type": "code",
   "execution_count": 14,
   "metadata": {
    "ExecuteTime": {
     "end_time": "2022-06-12T11:39:56.202157Z",
     "start_time": "2022-06-12T11:39:56.199331Z"
    }
   },
   "outputs": [],
   "source": [
    "timestep = mae.shape[0]"
   ]
  },
  {
   "cell_type": "code",
   "execution_count": 15,
   "metadata": {
    "ExecuteTime": {
     "end_time": "2022-06-12T11:39:56.278448Z",
     "start_time": "2022-06-12T11:39:56.204009Z"
    }
   },
   "outputs": [],
   "source": [
    "timesteps=[i for i in range(1,timestep+1)]\n",
    "maes=[np.mean(mae[i])/counter for i in range(0, timestep)]\n",
    "rmse=[np.sqrt(np.mean(mse[i])/counter) for i in range(0, timestep)]\n",
    "ssims=[np.mean(ssim[i])/counter for i in range(0, timestep)]\n",
    "psnrs=[np.mean(psnr[i])/counter for i in range(0, timestep)]"
   ]
  },
  {
   "cell_type": "code",
   "execution_count": 16,
   "metadata": {
    "ExecuteTime": {
     "end_time": "2022-06-12T11:39:56.364417Z",
     "start_time": "2022-06-12T11:39:56.279732Z"
    }
   },
   "outputs": [
    {
     "data": {
      "text/plain": [
       "(0.8963546645690629, 1.2575297038581013, 0.8839714766177647, 46.67339458525072)"
      ]
     },
     "execution_count": 16,
     "metadata": {},
     "output_type": "execute_result"
    }
   ],
   "source": [
    "np.mean(maes), np.mean(rmse), np.mean(ssims), np.mean(psnrs)"
   ]
  },
  {
   "cell_type": "code",
   "execution_count": 17,
   "metadata": {
    "ExecuteTime": {
     "end_time": "2022-06-12T11:39:56.693467Z",
     "start_time": "2022-06-12T11:39:56.366686Z"
    }
   },
   "outputs": [
    {
     "data": {
      "image/png": "[encoded data removed]",
      "text/plain": [
       "<Figure size 1296x360 with 4 Axes>"
      ]
     },
     "metadata": {
      "needs_background": "light"
     },
     "output_type": "display_data"
    }
   ],
   "source": [
    "fig, axes = plt.subplots(1, 4, figsize=(18, 5))\n",
    "axes[0].plot(timesteps,maes,'ro-',label='GS-ConvLSTM')\n",
    "axes[0].set_title('MAE')\n",
    "axes[0].set_xlabel('time-steps')\n",
    "axes[1].plot(timesteps,maes,'ro-',label='GS-ConvLSTM')\n",
    "axes[1].set_title('MAE')\n",
    "axes[1].set_xlabel('time-steps')\n",
    "axes[2].plot(timesteps,ssims,'ro-',label='GS-ConvLSTM')\n",
    "axes[2].set_title('SSIM')\n",
    "axes[2].set_xlabel('time-steps')\n",
    "axes[3].plot(timesteps,psnrs,'ro-',label='GS-ConvLSTM')\n",
    "axes[3].set_title('PSNR')\n",
    "axes[3].set_xlabel('time-steps')\n",
    "plt.show()"
   ]
  },
  {
   "cell_type": "code",
   "execution_count": null,
   "metadata": {},
   "outputs": [],
   "source": []
  }
 ],
 "metadata": {
  "kernelspec": {
   "display_name": "Python 3",
   "language": "python",
   "name": "python3"
  },
  "language_info": {
   "codemirror_mode": {
    "name": "ipython",
    "version": 3
   },
   "file_extension": ".py",
   "mimetype": "text/x-python",
   "name": "python",
   "nbconvert_exporter": "python",
   "pygments_lexer": "ipython3",
   "version": "3.8.0"
  }
 },
 "nbformat": 4,
 "nbformat_minor": 4
}
